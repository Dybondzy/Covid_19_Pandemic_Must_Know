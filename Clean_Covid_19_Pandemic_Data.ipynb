{
  "nbformat": 4,
  "nbformat_minor": 0,
  "metadata": {
    "kernelspec": {
      "display_name": "Python 3",
      "language": "python",
      "name": "python3"
    },
    "language_info": {
      "codemirror_mode": {
        "name": "ipython",
        "version": 3
      },
      "file_extension": ".py",
      "mimetype": "text/x-python",
      "name": "python",
      "nbconvert_exporter": "python",
      "pygments_lexer": "ipython3",
      "version": "3.8.5"
    },
    "colab": {
      "name": "Clean_Covid_19_Pandemic_Data.ipynb",
      "provenance": [],
      "include_colab_link": true
    }
  },
  "cells": [
    {
      "cell_type": "markdown",
      "metadata": {
        "id": "view-in-github",
        "colab_type": "text"
      },
      "source": [
        "<a href=\"https://colab.research.google.com/github/Dybondzy/Covid_19_Pandemic_Must_Know/blob/main/Clean_Covid_19_Pandemic_Data.ipynb\" target=\"_parent\"><img src=\"https://colab.research.google.com/assets/colab-badge.svg\" alt=\"Open In Colab\"/></a>"
      ]
    },
    {
      "cell_type": "markdown",
      "metadata": {
        "id": "rKQf7yvaHNKn"
      },
      "source": [
        "### Deliverable 1"
      ]
    },
    {
      "cell_type": "code",
      "metadata": {
        "id": "Vdcyz3aTHNKo"
      },
      "source": [
        "# Import our dependencies\n",
        "from sklearn.model_selection import train_test_split\n",
        "from sklearn.preprocessing import StandardScaler,OneHotEncoder\n",
        "import pandas as pd\n",
        "import numpy as np\n",
        "import tensorflow as tf\n",
        "import os"
      ],
      "execution_count": 12,
      "outputs": []
    },
    {
      "cell_type": "code",
      "metadata": {
        "id": "I6LWveSzkM3q",
        "colab": {
          "base_uri": "https://localhost:8080/",
          "height": 374
        },
        "outputId": "1bd88f99-d50d-4d66-d5ed-a9d989c534c6"
      },
      "source": [
        "# Extract from file 1\n",
        "# Step 1\n",
        "application_df = pd.read_csv(\"Provisional_COVID-19_Deaths_by_Sex_and_Age.csv\")\n",
        "application_df.head()"
      ],
      "execution_count": 13,
      "outputs": [
        {
          "output_type": "execute_result",
          "data": {
            "text/html": [
              "<div>\n",
              "<style scoped>\n",
              "    .dataframe tbody tr th:only-of-type {\n",
              "        vertical-align: middle;\n",
              "    }\n",
              "\n",
              "    .dataframe tbody tr th {\n",
              "        vertical-align: top;\n",
              "    }\n",
              "\n",
              "    .dataframe thead th {\n",
              "        text-align: right;\n",
              "    }\n",
              "</style>\n",
              "<table border=\"1\" class=\"dataframe\">\n",
              "  <thead>\n",
              "    <tr style=\"text-align: right;\">\n",
              "      <th></th>\n",
              "      <th>Data As Of</th>\n",
              "      <th>Start Date</th>\n",
              "      <th>End Date</th>\n",
              "      <th>Group</th>\n",
              "      <th>Year</th>\n",
              "      <th>Month</th>\n",
              "      <th>State</th>\n",
              "      <th>Sex</th>\n",
              "      <th>Age Group</th>\n",
              "      <th>COVID-19 Deaths</th>\n",
              "      <th>Total Deaths</th>\n",
              "      <th>Pneumonia Deaths</th>\n",
              "      <th>Pneumonia and COVID-19 Deaths</th>\n",
              "      <th>Influenza Deaths</th>\n",
              "      <th>Pneumonia, Influenza, or COVID-19 Deaths</th>\n",
              "      <th>Footnote</th>\n",
              "    </tr>\n",
              "  </thead>\n",
              "  <tbody>\n",
              "    <tr>\n",
              "      <th>0</th>\n",
              "      <td>07/07/2021</td>\n",
              "      <td>01/01/2020</td>\n",
              "      <td>07/03/2021</td>\n",
              "      <td>By Total</td>\n",
              "      <td>NaN</td>\n",
              "      <td>NaN</td>\n",
              "      <td>United States</td>\n",
              "      <td>All Sexes</td>\n",
              "      <td>All Ages</td>\n",
              "      <td>596740.0</td>\n",
              "      <td>4952380.0</td>\n",
              "      <td>531528.0</td>\n",
              "      <td>293034.0</td>\n",
              "      <td>9189.0</td>\n",
              "      <td>843136.0</td>\n",
              "      <td>NaN</td>\n",
              "    </tr>\n",
              "    <tr>\n",
              "      <th>1</th>\n",
              "      <td>07/07/2021</td>\n",
              "      <td>01/01/2020</td>\n",
              "      <td>07/03/2021</td>\n",
              "      <td>By Total</td>\n",
              "      <td>NaN</td>\n",
              "      <td>NaN</td>\n",
              "      <td>United States</td>\n",
              "      <td>All Sexes</td>\n",
              "      <td>Under 1 year</td>\n",
              "      <td>82.0</td>\n",
              "      <td>27948.0</td>\n",
              "      <td>299.0</td>\n",
              "      <td>12.0</td>\n",
              "      <td>22.0</td>\n",
              "      <td>391.0</td>\n",
              "      <td>NaN</td>\n",
              "    </tr>\n",
              "    <tr>\n",
              "      <th>2</th>\n",
              "      <td>07/07/2021</td>\n",
              "      <td>01/01/2020</td>\n",
              "      <td>07/03/2021</td>\n",
              "      <td>By Total</td>\n",
              "      <td>NaN</td>\n",
              "      <td>NaN</td>\n",
              "      <td>United States</td>\n",
              "      <td>All Sexes</td>\n",
              "      <td>0-17 years</td>\n",
              "      <td>331.0</td>\n",
              "      <td>49047.0</td>\n",
              "      <td>801.0</td>\n",
              "      <td>64.0</td>\n",
              "      <td>185.0</td>\n",
              "      <td>1253.0</td>\n",
              "      <td>NaN</td>\n",
              "    </tr>\n",
              "    <tr>\n",
              "      <th>3</th>\n",
              "      <td>07/07/2021</td>\n",
              "      <td>01/01/2020</td>\n",
              "      <td>07/03/2021</td>\n",
              "      <td>By Total</td>\n",
              "      <td>NaN</td>\n",
              "      <td>NaN</td>\n",
              "      <td>United States</td>\n",
              "      <td>All Sexes</td>\n",
              "      <td>1-4 years</td>\n",
              "      <td>38.0</td>\n",
              "      <td>5082.0</td>\n",
              "      <td>162.0</td>\n",
              "      <td>6.0</td>\n",
              "      <td>64.0</td>\n",
              "      <td>258.0</td>\n",
              "      <td>NaN</td>\n",
              "    </tr>\n",
              "    <tr>\n",
              "      <th>4</th>\n",
              "      <td>07/07/2021</td>\n",
              "      <td>01/01/2020</td>\n",
              "      <td>07/03/2021</td>\n",
              "      <td>By Total</td>\n",
              "      <td>NaN</td>\n",
              "      <td>NaN</td>\n",
              "      <td>United States</td>\n",
              "      <td>All Sexes</td>\n",
              "      <td>5-14 years</td>\n",
              "      <td>116.0</td>\n",
              "      <td>8144.0</td>\n",
              "      <td>229.0</td>\n",
              "      <td>26.0</td>\n",
              "      <td>78.0</td>\n",
              "      <td>397.0</td>\n",
              "      <td>NaN</td>\n",
              "    </tr>\n",
              "  </tbody>\n",
              "</table>\n",
              "</div>"
            ],
            "text/plain": [
              "   Data As Of  Start Date  ... Pneumonia, Influenza, or COVID-19 Deaths Footnote\n",
              "0  07/07/2021  01/01/2020  ...                                 843136.0      NaN\n",
              "1  07/07/2021  01/01/2020  ...                                    391.0      NaN\n",
              "2  07/07/2021  01/01/2020  ...                                   1253.0      NaN\n",
              "3  07/07/2021  01/01/2020  ...                                    258.0      NaN\n",
              "4  07/07/2021  01/01/2020  ...                                    397.0      NaN\n",
              "\n",
              "[5 rows x 16 columns]"
            ]
          },
          "metadata": {
            "tags": []
          },
          "execution_count": 13
        }
      ]
    },
    {
      "cell_type": "code",
      "metadata": {
        "id": "2cHPYgPEzHYW",
        "colab": {
          "base_uri": "https://localhost:8080/"
        },
        "outputId": "fb604775-126c-4eff-84cf-afa3f65799f3"
      },
      "source": [
        "# Determine the number of unique values in each column\n",
        "# Step 2\n",
        "application_df.nunique()"
      ],
      "execution_count": 14,
      "outputs": [
        {
          "output_type": "execute_result",
          "data": {
            "text/plain": [
              "Data As Of                                     1\n",
              "Start Date                                    19\n",
              "End Date                                      19\n",
              "Group                                          3\n",
              "Year                                           2\n",
              "Month                                         12\n",
              "State                                         54\n",
              "Sex                                            3\n",
              "Age Group                                     17\n",
              "COVID-19 Deaths                             2533\n",
              "Total Deaths                                6672\n",
              "Pneumonia Deaths                            2396\n",
              "Pneumonia and COVID-19 Deaths               1836\n",
              "Influenza Deaths                             325\n",
              "Pneumonia, Influenza, or COVID-19 Deaths    2963\n",
              "Footnote                                       1\n",
              "dtype: int64"
            ]
          },
          "metadata": {
            "tags": []
          },
          "execution_count": 14
        }
      ]
    },
    {
      "cell_type": "code",
      "metadata": {
        "colab": {
          "base_uri": "https://localhost:8080/"
        },
        "id": "f1RziONpCeZC",
        "outputId": "8b7b5c41-4d94-45d7-cb28-f3277aadb194"
      },
      "source": [
        "# Step 3\n",
        "application_df.shape"
      ],
      "execution_count": 15,
      "outputs": [
        {
          "output_type": "execute_result",
          "data": {
            "text/plain": [
              "(60588, 16)"
            ]
          },
          "metadata": {
            "tags": []
          },
          "execution_count": 15
        }
      ]
    },
    {
      "cell_type": "code",
      "metadata": {
        "id": "Ei_yKjGFDn2v"
      },
      "source": [
        "# Step 4\n",
        "new_Provisional_COVID_Deaths_by_Sex_and_Age_df=application_df[[\"Data As Of\",\"Start Date\",\"End Date\",\"Group\",\"State\", \"Sex\", \"Age Group\"]]"
      ],
      "execution_count": 16,
      "outputs": []
    },
    {
      "cell_type": "code",
      "metadata": {
        "colab": {
          "base_uri": "https://localhost:8080/"
        },
        "id": "RFqaDX44PhII",
        "outputId": "a92a45bd-ac35-4209-b516-3d9486c17927"
      },
      "source": [
        "# Step 5\n",
        "new_Provisional_COVID_Deaths_by_Sex_and_Age_df.isnull().sum()"
      ],
      "execution_count": 17,
      "outputs": [
        {
          "output_type": "execute_result",
          "data": {
            "text/plain": [
              "Data As Of    0\n",
              "Start Date    0\n",
              "End Date      0\n",
              "Group         0\n",
              "State         0\n",
              "Sex           0\n",
              "Age Group     0\n",
              "dtype: int64"
            ]
          },
          "metadata": {
            "tags": []
          },
          "execution_count": 17
        }
      ]
    },
    {
      "cell_type": "code",
      "metadata": {
        "id": "53gnssqyHNKq",
        "colab": {
          "base_uri": "https://localhost:8080/"
        },
        "outputId": "bc8d517f-0904-4b88-8198-4d7b9460f547"
      },
      "source": [
        "# Determine the number of unique values in each column\n",
        "# Step 6\n",
        "new_Provisional_COVID_Deaths_by_Sex_and_Age_df.nunique()"
      ],
      "execution_count": 18,
      "outputs": [
        {
          "output_type": "execute_result",
          "data": {
            "text/plain": [
              "Data As Of     1\n",
              "Start Date    19\n",
              "End Date      19\n",
              "Group          3\n",
              "State         54\n",
              "Sex            3\n",
              "Age Group     17\n",
              "dtype: int64"
            ]
          },
          "metadata": {
            "tags": []
          },
          "execution_count": 18
        }
      ]
    },
    {
      "cell_type": "code",
      "metadata": {
        "colab": {
          "base_uri": "https://localhost:8080/"
        },
        "id": "1Hbs07mnBzQG",
        "outputId": "76a903bd-e219-4c6c-e95a-aa48dd8cfe65"
      },
      "source": [
        "# Step 7\n",
        "df_Covid_Sex_Age=new_Provisional_COVID_Deaths_by_Sex_and_Age_df.rename(columns={'Data As Of': 'AsOfDate','Start Date':'StartDate','End Date':'EndDate','Age Group':'AgeGroup'}, inplace=False)\n",
        "df_Covid_Sex_Age.head"
      ],
      "execution_count": 19,
      "outputs": [
        {
          "output_type": "execute_result",
          "data": {
            "text/plain": [
              "<bound method NDFrame.head of          AsOfDate   StartDate  ...        Sex           AgeGroup\n",
              "0      07/07/2021  01/01/2020  ...  All Sexes           All Ages\n",
              "1      07/07/2021  01/01/2020  ...  All Sexes       Under 1 year\n",
              "2      07/07/2021  01/01/2020  ...  All Sexes         0-17 years\n",
              "3      07/07/2021  01/01/2020  ...  All Sexes          1-4 years\n",
              "4      07/07/2021  01/01/2020  ...  All Sexes         5-14 years\n",
              "...           ...         ...  ...        ...                ...\n",
              "60583  07/07/2021  07/01/2021  ...     Female        50-64 years\n",
              "60584  07/07/2021  07/01/2021  ...     Female        55-64 years\n",
              "60585  07/07/2021  07/01/2021  ...     Female        65-74 years\n",
              "60586  07/07/2021  07/01/2021  ...     Female        75-84 years\n",
              "60587  07/07/2021  07/01/2021  ...     Female  85 years and over\n",
              "\n",
              "[60588 rows x 7 columns]>"
            ]
          },
          "metadata": {
            "tags": []
          },
          "execution_count": 19
        }
      ]
    },
    {
      "cell_type": "code",
      "metadata": {
        "colab": {
          "base_uri": "https://localhost:8080/"
        },
        "id": "BodTMqiyI42R",
        "outputId": "d24b496c-ac33-47dd-a0bc-744406611073"
      },
      "source": [
        "# Step 8\n",
        "df_Covid_Sex_Age.nunique()"
      ],
      "execution_count": 20,
      "outputs": [
        {
          "output_type": "execute_result",
          "data": {
            "text/plain": [
              "AsOfDate      1\n",
              "StartDate    19\n",
              "EndDate      19\n",
              "Group         3\n",
              "State        54\n",
              "Sex           3\n",
              "AgeGroup     17\n",
              "dtype: int64"
            ]
          },
          "metadata": {
            "tags": []
          },
          "execution_count": 20
        }
      ]
    },
    {
      "cell_type": "code",
      "metadata": {
        "id": "4LlDaEcpHNKv"
      },
      "source": [
        "# Save and export your results to an csv file - Provisional_COVID-19_Deaths_by_Sex_and_Age\n",
        "# File 1\n",
        "# Step 9\n",
        "df_Covid_Sex_Age.to_csv(\"COVID_Deaths_by_Sex_and_Age.csv\")"
      ],
      "execution_count": 21,
      "outputs": []
    },
    {
      "cell_type": "code",
      "metadata": {
        "id": "NJZRxBjVHNKp",
        "colab": {
          "base_uri": "https://localhost:8080/",
          "height": 287
        },
        "outputId": "81abaa9f-ee37-4c1a-bc54-1cac80ed0ef5"
      },
      "source": [
        "# Extract from file 2\n",
        "# Step 1\n",
        "app_df = pd.read_csv(\"United_States_COVID-19_Cases_and_Deaths_by_State_over_Time.csv\")\n",
        "app_df.head()"
      ],
      "execution_count": 22,
      "outputs": [
        {
          "output_type": "execute_result",
          "data": {
            "text/html": [
              "<div>\n",
              "<style scoped>\n",
              "    .dataframe tbody tr th:only-of-type {\n",
              "        vertical-align: middle;\n",
              "    }\n",
              "\n",
              "    .dataframe tbody tr th {\n",
              "        vertical-align: top;\n",
              "    }\n",
              "\n",
              "    .dataframe thead th {\n",
              "        text-align: right;\n",
              "    }\n",
              "</style>\n",
              "<table border=\"1\" class=\"dataframe\">\n",
              "  <thead>\n",
              "    <tr style=\"text-align: right;\">\n",
              "      <th></th>\n",
              "      <th>submission_date</th>\n",
              "      <th>state</th>\n",
              "      <th>tot_cases</th>\n",
              "      <th>conf_cases</th>\n",
              "      <th>prob_cases</th>\n",
              "      <th>new_case</th>\n",
              "      <th>pnew_case</th>\n",
              "      <th>tot_death</th>\n",
              "      <th>conf_death</th>\n",
              "      <th>prob_death</th>\n",
              "      <th>new_death</th>\n",
              "      <th>pnew_death</th>\n",
              "      <th>created_at</th>\n",
              "      <th>consent_cases</th>\n",
              "      <th>consent_deaths</th>\n",
              "    </tr>\n",
              "  </thead>\n",
              "  <tbody>\n",
              "    <tr>\n",
              "      <th>0</th>\n",
              "      <td>03/29/2021</td>\n",
              "      <td>TX</td>\n",
              "      <td>2775669</td>\n",
              "      <td>NaN</td>\n",
              "      <td>NaN</td>\n",
              "      <td>3589</td>\n",
              "      <td>1251.0</td>\n",
              "      <td>48628</td>\n",
              "      <td>NaN</td>\n",
              "      <td>NaN</td>\n",
              "      <td>46</td>\n",
              "      <td>0.0</td>\n",
              "      <td>03/31/2021 12:00:00 AM</td>\n",
              "      <td>Not agree</td>\n",
              "      <td>Not agree</td>\n",
              "    </tr>\n",
              "    <tr>\n",
              "      <th>1</th>\n",
              "      <td>07/28/2020</td>\n",
              "      <td>MP</td>\n",
              "      <td>40</td>\n",
              "      <td>40.0</td>\n",
              "      <td>0.0</td>\n",
              "      <td>0</td>\n",
              "      <td>0.0</td>\n",
              "      <td>2</td>\n",
              "      <td>2.0</td>\n",
              "      <td>0.0</td>\n",
              "      <td>0</td>\n",
              "      <td>0.0</td>\n",
              "      <td>07/29/2020 02:34:46 PM</td>\n",
              "      <td>Agree</td>\n",
              "      <td>Agree</td>\n",
              "    </tr>\n",
              "    <tr>\n",
              "      <th>2</th>\n",
              "      <td>08/22/2020</td>\n",
              "      <td>AR</td>\n",
              "      <td>56199</td>\n",
              "      <td>NaN</td>\n",
              "      <td>NaN</td>\n",
              "      <td>547</td>\n",
              "      <td>0.0</td>\n",
              "      <td>674</td>\n",
              "      <td>NaN</td>\n",
              "      <td>NaN</td>\n",
              "      <td>11</td>\n",
              "      <td>0.0</td>\n",
              "      <td>08/23/2020 02:15:28 PM</td>\n",
              "      <td>Not agree</td>\n",
              "      <td>Not agree</td>\n",
              "    </tr>\n",
              "    <tr>\n",
              "      <th>3</th>\n",
              "      <td>05/09/2021</td>\n",
              "      <td>PW</td>\n",
              "      <td>0</td>\n",
              "      <td>NaN</td>\n",
              "      <td>NaN</td>\n",
              "      <td>0</td>\n",
              "      <td>0.0</td>\n",
              "      <td>0</td>\n",
              "      <td>NaN</td>\n",
              "      <td>NaN</td>\n",
              "      <td>0</td>\n",
              "      <td>0.0</td>\n",
              "      <td>05/10/2021 02:15:36 PM</td>\n",
              "      <td>NaN</td>\n",
              "      <td>NaN</td>\n",
              "    </tr>\n",
              "    <tr>\n",
              "      <th>4</th>\n",
              "      <td>08/15/2020</td>\n",
              "      <td>FL</td>\n",
              "      <td>563628</td>\n",
              "      <td>NaN</td>\n",
              "      <td>NaN</td>\n",
              "      <td>6291</td>\n",
              "      <td>120.0</td>\n",
              "      <td>9345</td>\n",
              "      <td>NaN</td>\n",
              "      <td>NaN</td>\n",
              "      <td>204</td>\n",
              "      <td>3.0</td>\n",
              "      <td>08/16/2020 02:57:14 PM</td>\n",
              "      <td>Not agree</td>\n",
              "      <td>Not agree</td>\n",
              "    </tr>\n",
              "  </tbody>\n",
              "</table>\n",
              "</div>"
            ],
            "text/plain": [
              "  submission_date state  ...  consent_cases  consent_deaths\n",
              "0      03/29/2021    TX  ...      Not agree       Not agree\n",
              "1      07/28/2020    MP  ...          Agree           Agree\n",
              "2      08/22/2020    AR  ...      Not agree       Not agree\n",
              "3      05/09/2021    PW  ...            NaN             NaN\n",
              "4      08/15/2020    FL  ...      Not agree       Not agree\n",
              "\n",
              "[5 rows x 15 columns]"
            ]
          },
          "metadata": {
            "tags": []
          },
          "execution_count": 22
        }
      ]
    },
    {
      "cell_type": "code",
      "metadata": {
        "colab": {
          "base_uri": "https://localhost:8080/"
        },
        "id": "V7nyW_V0QMzE",
        "outputId": "c7361595-afb2-4bdc-ee08-681ef085d00a"
      },
      "source": [
        "# Determine the number of unique values in each column\n",
        "# Step 2\n",
        "app_df.nunique()"
      ],
      "execution_count": 23,
      "outputs": [
        {
          "output_type": "execute_result",
          "data": {
            "text/plain": [
              "submission_date      531\n",
              "state                 60\n",
              "tot_cases          23510\n",
              "conf_cases         13043\n",
              "prob_cases          9188\n",
              "new_case            5133\n",
              "pnew_case           1757\n",
              "tot_death          10677\n",
              "conf_death          7822\n",
              "prob_death          2291\n",
              "new_death            444\n",
              "pnew_death           252\n",
              "created_at          1755\n",
              "consent_cases          2\n",
              "consent_deaths         2\n",
              "dtype: int64"
            ]
          },
          "metadata": {
            "tags": []
          },
          "execution_count": 23
        }
      ]
    },
    {
      "cell_type": "code",
      "metadata": {
        "colab": {
          "base_uri": "https://localhost:8080/"
        },
        "id": "Etp1AfhHQQXW",
        "outputId": "5aa41ae4-3372-4fbd-f3ac-f43eb11f1f04"
      },
      "source": [
        "# Step 3\n",
        "app_df.shape"
      ],
      "execution_count": 24,
      "outputs": [
        {
          "output_type": "execute_result",
          "data": {
            "text/plain": [
              "(31860, 15)"
            ]
          },
          "metadata": {
            "tags": []
          },
          "execution_count": 24
        }
      ]
    },
    {
      "cell_type": "code",
      "metadata": {
        "id": "9gDZiLhNQRKm"
      },
      "source": [
        "# Step 4\n",
        "new_US_COVID_Cases_and_Deaths_by_State_over_Time_df=app_df[[\"submission_date\",\"state\",\"tot_cases\",\"new_case\",\"tot_death\", \"new_death\", \"created_at\"]]\n"
      ],
      "execution_count": 25,
      "outputs": []
    },
    {
      "cell_type": "code",
      "metadata": {
        "colab": {
          "base_uri": "https://localhost:8080/"
        },
        "id": "NN4RQpkLQQCl",
        "outputId": "a367cadc-6300-4f33-922a-4f81a80f0497"
      },
      "source": [
        "# Step 5\n",
        "new_US_COVID_Cases_and_Deaths_by_State_over_Time_df.isnull().sum()"
      ],
      "execution_count": 26,
      "outputs": [
        {
          "output_type": "execute_result",
          "data": {
            "text/plain": [
              "submission_date    0\n",
              "state              0\n",
              "tot_cases          0\n",
              "new_case           0\n",
              "tot_death          0\n",
              "new_death          0\n",
              "created_at         0\n",
              "dtype: int64"
            ]
          },
          "metadata": {
            "tags": []
          },
          "execution_count": 26
        }
      ]
    },
    {
      "cell_type": "code",
      "metadata": {
        "colab": {
          "base_uri": "https://localhost:8080/"
        },
        "id": "_H_fZkUwQNA3",
        "outputId": "bc3cde0e-dbcb-4925-bff4-410ac7d3a285"
      },
      "source": [
        "# Determine the number of unique values in each column\n",
        "# Step 6\n",
        "new_US_COVID_Cases_and_Deaths_by_State_over_Time_df.nunique()"
      ],
      "execution_count": 27,
      "outputs": [
        {
          "output_type": "execute_result",
          "data": {
            "text/plain": [
              "submission_date      531\n",
              "state                 60\n",
              "tot_cases          23510\n",
              "new_case            5133\n",
              "tot_death          10677\n",
              "new_death            444\n",
              "created_at          1755\n",
              "dtype: int64"
            ]
          },
          "metadata": {
            "tags": []
          },
          "execution_count": 27
        }
      ]
    },
    {
      "cell_type": "code",
      "metadata": {
        "colab": {
          "base_uri": "https://localhost:8080/"
        },
        "id": "7Zl48dSF-11h",
        "outputId": "953b5934-fb73-4549-a3b5-1538b1e4622b"
      },
      "source": [
        "# Step 7\n",
        "df_COVID_Cases_Deaths_by_State=new_Provisional_COVID_Deaths_by_Sex_and_Age_df.rename(columns={'submission_date': 'AsOfDate'}, inplace=False)\n",
        "df_COVID_Cases_Deaths_by_State.head"
      ],
      "execution_count": 28,
      "outputs": [
        {
          "output_type": "execute_result",
          "data": {
            "text/plain": [
              "<bound method NDFrame.head of        Data As Of  Start Date  ...        Sex          Age Group\n",
              "0      07/07/2021  01/01/2020  ...  All Sexes           All Ages\n",
              "1      07/07/2021  01/01/2020  ...  All Sexes       Under 1 year\n",
              "2      07/07/2021  01/01/2020  ...  All Sexes         0-17 years\n",
              "3      07/07/2021  01/01/2020  ...  All Sexes          1-4 years\n",
              "4      07/07/2021  01/01/2020  ...  All Sexes         5-14 years\n",
              "...           ...         ...  ...        ...                ...\n",
              "60583  07/07/2021  07/01/2021  ...     Female        50-64 years\n",
              "60584  07/07/2021  07/01/2021  ...     Female        55-64 years\n",
              "60585  07/07/2021  07/01/2021  ...     Female        65-74 years\n",
              "60586  07/07/2021  07/01/2021  ...     Female        75-84 years\n",
              "60587  07/07/2021  07/01/2021  ...     Female  85 years and over\n",
              "\n",
              "[60588 rows x 7 columns]>"
            ]
          },
          "metadata": {
            "tags": []
          },
          "execution_count": 28
        }
      ]
    },
    {
      "cell_type": "code",
      "metadata": {
        "colab": {
          "base_uri": "https://localhost:8080/"
        },
        "id": "8sH1VsoIIPlc",
        "outputId": "97cd29d2-21d9-484b-bf81-aac98df34619"
      },
      "source": [
        "# Step 8\n",
        "df_COVID_Cases_Deaths_by_State.nunique()"
      ],
      "execution_count": 29,
      "outputs": [
        {
          "output_type": "execute_result",
          "data": {
            "text/plain": [
              "Data As Of     1\n",
              "Start Date    19\n",
              "End Date      19\n",
              "Group          3\n",
              "State         54\n",
              "Sex            3\n",
              "Age Group     17\n",
              "dtype: int64"
            ]
          },
          "metadata": {
            "tags": []
          },
          "execution_count": 29
        }
      ]
    },
    {
      "cell_type": "code",
      "metadata": {
        "id": "nqSRBku_PJpn"
      },
      "source": [
        "# Save and export your results to an csv file - United_States_COVID-19_Cases_and_Deaths_by_State_over_Time\n",
        "# File 2\n",
        "# Step 9\n",
        "df_COVID_Cases_Deaths_by_State.to_csv(\"COVID_Cases_Deaths_by_State.csv\")"
      ],
      "execution_count": 30,
      "outputs": []
    },
    {
      "cell_type": "code",
      "metadata": {
        "colab": {
          "base_uri": "https://localhost:8080/",
          "height": 203
        },
        "id": "EJ_NHiQLQL1d",
        "outputId": "bd750511-d5e9-4101-a1fc-115238eed6c1"
      },
      "source": [
        "# Extract from file 3\n",
        "# Step 1\n",
        "df_application = pd.read_csv(\"Conditions_Contributing_to_COVID-19_Deaths__by_State_and_Age.csv\")\n",
        "df_application.head()"
      ],
      "execution_count": 31,
      "outputs": [
        {
          "output_type": "execute_result",
          "data": {
            "text/html": [
              "<div>\n",
              "<style scoped>\n",
              "    .dataframe tbody tr th:only-of-type {\n",
              "        vertical-align: middle;\n",
              "    }\n",
              "\n",
              "    .dataframe tbody tr th {\n",
              "        vertical-align: top;\n",
              "    }\n",
              "\n",
              "    .dataframe thead th {\n",
              "        text-align: right;\n",
              "    }\n",
              "</style>\n",
              "<table border=\"1\" class=\"dataframe\">\n",
              "  <thead>\n",
              "    <tr style=\"text-align: right;\">\n",
              "      <th></th>\n",
              "      <th>Data As Of</th>\n",
              "      <th>Start Date</th>\n",
              "      <th>End Date</th>\n",
              "      <th>Group</th>\n",
              "      <th>Year</th>\n",
              "      <th>Month</th>\n",
              "      <th>State</th>\n",
              "      <th>Condition Group</th>\n",
              "      <th>Condition</th>\n",
              "      <th>ICD10_codes</th>\n",
              "      <th>Age Group</th>\n",
              "      <th>COVID-19 Deaths</th>\n",
              "      <th>Number of Mentions</th>\n",
              "      <th>Flag</th>\n",
              "    </tr>\n",
              "  </thead>\n",
              "  <tbody>\n",
              "    <tr>\n",
              "      <th>0</th>\n",
              "      <td>07/04/2021</td>\n",
              "      <td>01/01/2020</td>\n",
              "      <td>07/03/2021</td>\n",
              "      <td>By Total</td>\n",
              "      <td>NaN</td>\n",
              "      <td>NaN</td>\n",
              "      <td>United States</td>\n",
              "      <td>Respiratory diseases</td>\n",
              "      <td>Influenza and pneumonia</td>\n",
              "      <td>J09-J18</td>\n",
              "      <td>0-24</td>\n",
              "      <td>435.0</td>\n",
              "      <td>453.0</td>\n",
              "      <td>NaN</td>\n",
              "    </tr>\n",
              "    <tr>\n",
              "      <th>1</th>\n",
              "      <td>07/04/2021</td>\n",
              "      <td>01/01/2020</td>\n",
              "      <td>07/03/2021</td>\n",
              "      <td>By Total</td>\n",
              "      <td>NaN</td>\n",
              "      <td>NaN</td>\n",
              "      <td>United States</td>\n",
              "      <td>Respiratory diseases</td>\n",
              "      <td>Influenza and pneumonia</td>\n",
              "      <td>J09-J18</td>\n",
              "      <td>25-34</td>\n",
              "      <td>1969.0</td>\n",
              "      <td>2020.0</td>\n",
              "      <td>NaN</td>\n",
              "    </tr>\n",
              "    <tr>\n",
              "      <th>2</th>\n",
              "      <td>07/04/2021</td>\n",
              "      <td>01/01/2020</td>\n",
              "      <td>07/03/2021</td>\n",
              "      <td>By Total</td>\n",
              "      <td>NaN</td>\n",
              "      <td>NaN</td>\n",
              "      <td>United States</td>\n",
              "      <td>Respiratory diseases</td>\n",
              "      <td>Influenza and pneumonia</td>\n",
              "      <td>J09-J18</td>\n",
              "      <td>35-44</td>\n",
              "      <td>5213.0</td>\n",
              "      <td>5354.0</td>\n",
              "      <td>NaN</td>\n",
              "    </tr>\n",
              "    <tr>\n",
              "      <th>3</th>\n",
              "      <td>07/04/2021</td>\n",
              "      <td>01/01/2020</td>\n",
              "      <td>07/03/2021</td>\n",
              "      <td>By Total</td>\n",
              "      <td>NaN</td>\n",
              "      <td>NaN</td>\n",
              "      <td>United States</td>\n",
              "      <td>Respiratory diseases</td>\n",
              "      <td>Influenza and pneumonia</td>\n",
              "      <td>J09-J18</td>\n",
              "      <td>45-54</td>\n",
              "      <td>15393.0</td>\n",
              "      <td>15843.0</td>\n",
              "      <td>NaN</td>\n",
              "    </tr>\n",
              "    <tr>\n",
              "      <th>4</th>\n",
              "      <td>07/04/2021</td>\n",
              "      <td>01/01/2020</td>\n",
              "      <td>07/03/2021</td>\n",
              "      <td>By Total</td>\n",
              "      <td>NaN</td>\n",
              "      <td>NaN</td>\n",
              "      <td>United States</td>\n",
              "      <td>Respiratory diseases</td>\n",
              "      <td>Influenza and pneumonia</td>\n",
              "      <td>J09-J18</td>\n",
              "      <td>55-64</td>\n",
              "      <td>38824.0</td>\n",
              "      <td>39904.0</td>\n",
              "      <td>NaN</td>\n",
              "    </tr>\n",
              "  </tbody>\n",
              "</table>\n",
              "</div>"
            ],
            "text/plain": [
              "   Data As Of  Start Date    End Date  ... COVID-19 Deaths  Number of Mentions  Flag\n",
              "0  07/04/2021  01/01/2020  07/03/2021  ...           435.0               453.0   NaN\n",
              "1  07/04/2021  01/01/2020  07/03/2021  ...          1969.0              2020.0   NaN\n",
              "2  07/04/2021  01/01/2020  07/03/2021  ...          5213.0              5354.0   NaN\n",
              "3  07/04/2021  01/01/2020  07/03/2021  ...         15393.0             15843.0   NaN\n",
              "4  07/04/2021  01/01/2020  07/03/2021  ...         38824.0             39904.0   NaN\n",
              "\n",
              "[5 rows x 14 columns]"
            ]
          },
          "metadata": {
            "tags": []
          },
          "execution_count": 31
        }
      ]
    },
    {
      "cell_type": "code",
      "metadata": {
        "colab": {
          "base_uri": "https://localhost:8080/"
        },
        "id": "tDDAl6eJQMl5",
        "outputId": "adaf982f-411f-45f6-ef41-7f9eec064739"
      },
      "source": [
        "# Determine the number of unique values in each column\n",
        "# Step 2\n",
        "df_application.nunique()"
      ],
      "execution_count": 32,
      "outputs": [
        {
          "output_type": "execute_result",
          "data": {
            "text/plain": [
              "Data As Of               1\n",
              "Start Date              19\n",
              "End Date                19\n",
              "Group                    3\n",
              "Year                     2\n",
              "Month                   12\n",
              "State                   54\n",
              "Condition Group         12\n",
              "Condition               23\n",
              "ICD10_codes             23\n",
              "Age Group               10\n",
              "COVID-19 Deaths       3426\n",
              "Number of Mentions    3561\n",
              "Flag                     1\n",
              "dtype: int64"
            ]
          },
          "metadata": {
            "tags": []
          },
          "execution_count": 32
        }
      ]
    },
    {
      "cell_type": "code",
      "metadata": {
        "colab": {
          "base_uri": "https://localhost:8080/"
        },
        "id": "2vI9jYEjQQhz",
        "outputId": "c55c1baa-57bb-48c4-a603-d92cf64987be"
      },
      "source": [
        "# Step 3\n",
        "df_application.shape"
      ],
      "execution_count": 33,
      "outputs": [
        {
          "output_type": "execute_result",
          "data": {
            "text/plain": [
              "(273240, 14)"
            ]
          },
          "metadata": {
            "tags": []
          },
          "execution_count": 33
        }
      ]
    },
    {
      "cell_type": "code",
      "metadata": {
        "id": "WL8O_05JQRUM"
      },
      "source": [
        "# Step 4\n",
        "# new_Conditions_Contributing_COVID_Deaths_by_State_and_Age_df=application_df[[\"Data As Of\",\"Start Date\", \"End Date\",\"Group\", \"State\", \"Condition\", \"Condition Group\", \"Age Group\",\"COVID-19 Deaths\"]]\n",
        "\n",
        "new_Conditions_Contributing_COVID_Deaths_by_State_and_Age_df=application_df[[\"Data As Of\",\"Start Date\", \"End Date\",\"Group\", \"State\", \"Age Group\",\"COVID-19 Deaths\"]]\n"
      ],
      "execution_count": 37,
      "outputs": []
    },
    {
      "cell_type": "code",
      "metadata": {
        "colab": {
          "base_uri": "https://localhost:8080/"
        },
        "id": "lX_ddeVXSuFB",
        "outputId": "e6f56afd-d27b-4b19-f5c3-71a20de28724"
      },
      "source": [
        "# Step 5\n",
        "new_Conditions_Contributing_COVID_Deaths_by_State_and_Age_df.isnull().sum()"
      ],
      "execution_count": 38,
      "outputs": [
        {
          "output_type": "execute_result",
          "data": {
            "text/plain": [
              "Data As Of             0\n",
              "Start Date             0\n",
              "End Date               0\n",
              "Group                  0\n",
              "State                  0\n",
              "Age Group              0\n",
              "COVID-19 Deaths    14424\n",
              "dtype: int64"
            ]
          },
          "metadata": {
            "tags": []
          },
          "execution_count": 38
        }
      ]
    },
    {
      "cell_type": "code",
      "metadata": {
        "colab": {
          "base_uri": "https://localhost:8080/"
        },
        "id": "yQPbE5NvQPRj",
        "outputId": "e40981d3-52f2-4d17-c8ec-7c675c472caa"
      },
      "source": [
        "# Determine the number of unique values in each column\n",
        "# Step 7\n",
        "new_Conditions_Contributing_COVID_Deaths_by_State_and_Age_df.nunique()"
      ],
      "execution_count": 39,
      "outputs": [
        {
          "output_type": "execute_result",
          "data": {
            "text/plain": [
              "Data As Of            1\n",
              "Start Date           19\n",
              "End Date             19\n",
              "Group                 3\n",
              "State                54\n",
              "Age Group            17\n",
              "COVID-19 Deaths    2533\n",
              "dtype: int64"
            ]
          },
          "metadata": {
            "tags": []
          },
          "execution_count": 39
        }
      ]
    },
    {
      "cell_type": "code",
      "metadata": {
        "colab": {
          "base_uri": "https://localhost:8080/"
        },
        "id": "o8gpiPs7QQNW",
        "outputId": "3a0c7b57-bf84-4912-96a3-61b1f53d6bf1"
      },
      "source": [
        "# Step 7\n",
        "df_Covid_Contributing_Deaths=new_Provisional_COVID_Deaths_by_Sex_and_Age_df.rename(columns={'Data As Of': 'AsOfDate','Start Date':'StartDate','End Date':'EndDate', 'Age Group': 'AgeGroup','Condition Group':'ConditionGroup'}, inplace=False)\n",
        "df_Covid_Contributing_Deaths.head"
      ],
      "execution_count": 40,
      "outputs": [
        {
          "output_type": "execute_result",
          "data": {
            "text/plain": [
              "<bound method NDFrame.head of          AsOfDate   StartDate  ...        Sex           AgeGroup\n",
              "0      07/07/2021  01/01/2020  ...  All Sexes           All Ages\n",
              "1      07/07/2021  01/01/2020  ...  All Sexes       Under 1 year\n",
              "2      07/07/2021  01/01/2020  ...  All Sexes         0-17 years\n",
              "3      07/07/2021  01/01/2020  ...  All Sexes          1-4 years\n",
              "4      07/07/2021  01/01/2020  ...  All Sexes         5-14 years\n",
              "...           ...         ...  ...        ...                ...\n",
              "60583  07/07/2021  07/01/2021  ...     Female        50-64 years\n",
              "60584  07/07/2021  07/01/2021  ...     Female        55-64 years\n",
              "60585  07/07/2021  07/01/2021  ...     Female        65-74 years\n",
              "60586  07/07/2021  07/01/2021  ...     Female        75-84 years\n",
              "60587  07/07/2021  07/01/2021  ...     Female  85 years and over\n",
              "\n",
              "[60588 rows x 7 columns]>"
            ]
          },
          "metadata": {
            "tags": []
          },
          "execution_count": 40
        }
      ]
    },
    {
      "cell_type": "code",
      "metadata": {
        "id": "VjnlG61ySvIa",
        "colab": {
          "base_uri": "https://localhost:8080/"
        },
        "outputId": "df88b676-8dd2-49e2-f53b-550c8a19e537"
      },
      "source": [
        "# Step 8\n",
        "df_Covid_Contributing_Deaths.nunique()"
      ],
      "execution_count": 41,
      "outputs": [
        {
          "output_type": "execute_result",
          "data": {
            "text/plain": [
              "AsOfDate      1\n",
              "StartDate    19\n",
              "EndDate      19\n",
              "Group         3\n",
              "State        54\n",
              "Sex           3\n",
              "AgeGroup     17\n",
              "dtype: int64"
            ]
          },
          "metadata": {
            "tags": []
          },
          "execution_count": 41
        }
      ]
    },
    {
      "cell_type": "code",
      "metadata": {
        "id": "E5OTwKMdQiTW"
      },
      "source": [
        "# Save and export your results to an csv file - Conditions_Contributing_to_COVID-19_Deaths__by_State_and_Age\n",
        "# File 3\n",
        "# Step 9\n",
        "df_Covid_Contributing_Deaths.to_csv(\"Conditions_Contributing_COVID_Deaths.csv\")"
      ],
      "execution_count": 42,
      "outputs": []
    }
  ]
}